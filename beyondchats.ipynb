{
  "nbformat": 4,
  "nbformat_minor": 0,
  "metadata": {
    "colab": {
      "provenance": []
    },
    "kernelspec": {
      "name": "python3",
      "display_name": "Python 3"
    },
    "language_info": {
      "name": "python"
    },
    "widgets": {
      "application/vnd.jupyter.widget-state+json": {
        "391e990bab664a13b8a694558ae53704": {
          "model_module": "@jupyter-widgets/controls",
          "model_name": "DropdownModel",
          "model_module_version": "1.5.0",
          "state": {
            "_dom_classes": [],
            "_model_module": "@jupyter-widgets/controls",
            "_model_module_version": "1.5.0",
            "_model_name": "DropdownModel",
            "_options_labels": [
              "Response 1",
              "Response 2",
              "Response 3",
              "Response 4",
              "Response 5",
              "Response 6",
              "Response 7",
              "Response 8",
              "Response 9",
              "Response 10"
            ],
            "_view_count": null,
            "_view_module": "@jupyter-widgets/controls",
            "_view_module_version": "1.5.0",
            "_view_name": "DropdownView",
            "description": "Select a response:",
            "description_tooltip": null,
            "disabled": false,
            "index": 9,
            "layout": "IPY_MODEL_cb481797d8a94a4191eb032b67012e66",
            "style": "IPY_MODEL_6eb8147753d447e9a7b796669b619efe"
          }
        },
        "cb481797d8a94a4191eb032b67012e66": {
          "model_module": "@jupyter-widgets/base",
          "model_name": "LayoutModel",
          "model_module_version": "1.2.0",
          "state": {
            "_model_module": "@jupyter-widgets/base",
            "_model_module_version": "1.2.0",
            "_model_name": "LayoutModel",
            "_view_count": null,
            "_view_module": "@jupyter-widgets/base",
            "_view_module_version": "1.2.0",
            "_view_name": "LayoutView",
            "align_content": null,
            "align_items": null,
            "align_self": null,
            "border": null,
            "bottom": null,
            "display": null,
            "flex": null,
            "flex_flow": null,
            "grid_area": null,
            "grid_auto_columns": null,
            "grid_auto_flow": null,
            "grid_auto_rows": null,
            "grid_column": null,
            "grid_gap": null,
            "grid_row": null,
            "grid_template_areas": null,
            "grid_template_columns": null,
            "grid_template_rows": null,
            "height": null,
            "justify_content": null,
            "justify_items": null,
            "left": null,
            "margin": null,
            "max_height": null,
            "max_width": null,
            "min_height": null,
            "min_width": null,
            "object_fit": null,
            "object_position": null,
            "order": null,
            "overflow": null,
            "overflow_x": null,
            "overflow_y": null,
            "padding": null,
            "right": null,
            "top": null,
            "visibility": null,
            "width": null
          }
        },
        "6eb8147753d447e9a7b796669b619efe": {
          "model_module": "@jupyter-widgets/controls",
          "model_name": "DescriptionStyleModel",
          "model_module_version": "1.5.0",
          "state": {
            "_model_module": "@jupyter-widgets/controls",
            "_model_module_version": "1.5.0",
            "_model_name": "DescriptionStyleModel",
            "_view_count": null,
            "_view_module": "@jupyter-widgets/base",
            "_view_module_version": "1.2.0",
            "_view_name": "StyleView",
            "description_width": ""
          }
        }
      }
    }
  },
  "cells": [
    {
      "cell_type": "code",
      "source": [
        "import requests\n",
        "import ipywidgets as widgets\n",
        "from IPython.display import display, HTML\n",
        "\n",
        "def fetch_api_data():\n",
        "    url = \"https://devapi.beyondchats.com/api/get_message_with_sources\"\n",
        "    response = requests.get(url)\n",
        "    if response.status_code == 200:\n",
        "        return response.json()[\"data\"][\"data\"]\n",
        "    else:\n",
        "        print(\"Failed to fetch data from the API.\")\n",
        "        return []\n",
        "\n",
        "def identify_citations(api_data, response_index):\n",
        "    citations = []\n",
        "    item = api_data[response_index]\n",
        "    sources = item[\"source\"]\n",
        "    response = item[\"response\"]\n",
        "    citation_sources = []\n",
        "    for source in sources:\n",
        "        if source[\"context\"].lower() in response.lower():\n",
        "            citation_sources.append(source)\n",
        "    return citation_sources\n",
        "\n",
        "def show_citations(response_index):\n",
        "    citations = identify_citations(api_data, response_index)\n",
        "    response_text = api_data[response_index]['response']\n",
        "    colored_response = f\"<span style='color:black; font-weight: bold;'>{response_text}</span>\"\n",
        "    display(HTML(\"<style>.citation { margin-left: 20px; }</style>\"))\n",
        "    display(HTML(f\"<h3 style='color:#2196F3;'>Response {response_index + 1}</h3>\"))\n",
        "    display(HTML(colored_response))\n",
        "\n",
        "    for source in citations:\n",
        "        print(f\"<p class='citation'>&#8226; {source['context']}</p>\")\n",
        "    print()\n",
        "\n",
        "api_data = fetch_api_data()\n",
        "\n",
        "response_selector = widgets.Dropdown(\n",
        "    options=[(f\"Response {i+1}\", i) for i in range(len(api_data))],\n",
        "    description='Select a response:',\n",
        "    disabled=False,\n",
        ")\n",
        "\n",
        "def on_response_select(change):\n",
        "    response_index = change['new']\n",
        "    show_citations(response_index)\n",
        "\n",
        "response_selector.observe(on_response_select, names='value')\n",
        "\n",
        "display(response_selector)\n"
      ],
      "metadata": {
        "colab": {
          "base_uri": "https://localhost:8080/",
          "height": 215,
          "referenced_widgets": [
            "391e990bab664a13b8a694558ae53704",
            "cb481797d8a94a4191eb032b67012e66",
            "6eb8147753d447e9a7b796669b619efe"
          ]
        },
        "id": "djDfqdny02rL",
        "outputId": "d89dba9c-568e-4aa8-d71e-ad26abcfc3ae"
      },
      "execution_count": 17,
      "outputs": [
        {
          "output_type": "display_data",
          "data": {
            "text/plain": [
              "Dropdown(description='Select a response:', options=(('Response 1', 0), ('Response 2', 1), ('Response 3', 2), (…"
            ],
            "application/vnd.jupyter.widget-view+json": {
              "version_major": 2,
              "version_minor": 0,
              "model_id": "391e990bab664a13b8a694558ae53704"
            }
          },
          "metadata": {}
        },
        {
          "output_type": "display_data",
          "data": {
            "text/plain": [
              "<IPython.core.display.HTML object>"
            ],
            "text/html": [
              "<style>.citation { margin-left: 20px; }</style>"
            ]
          },
          "metadata": {}
        },
        {
          "output_type": "display_data",
          "data": {
            "text/plain": [
              "<IPython.core.display.HTML object>"
            ],
            "text/html": [
              "<h3 style='color:#2196F3;'>Response 3</h3>"
            ]
          },
          "metadata": {}
        },
        {
          "output_type": "display_data",
          "data": {
            "text/plain": [
              "<IPython.core.display.HTML object>"
            ],
            "text/html": [
              "<span style='color:black; font-weight: bold;'>The average cost of a regular IVF cycle at our clinic is approximately Rs 2 to 4 lakhs, depending on the treatment required. This includes all medical procedures and some additional costs for medications and freezing embryos.</span>"
            ]
          },
          "metadata": {}
        },
        {
          "output_type": "stream",
          "name": "stdout",
          "text": [
            "\n"
          ]
        },
        {
          "output_type": "display_data",
          "data": {
            "text/plain": [
              "<IPython.core.display.HTML object>"
            ],
            "text/html": [
              "<style>.citation { margin-left: 20px; }</style>"
            ]
          },
          "metadata": {}
        },
        {
          "output_type": "display_data",
          "data": {
            "text/plain": [
              "<IPython.core.display.HTML object>"
            ],
            "text/html": [
              "<h3 style='color:#2196F3;'>Response 10</h3>"
            ]
          },
          "metadata": {}
        },
        {
          "output_type": "display_data",
          "data": {
            "text/plain": [
              "<IPython.core.display.HTML object>"
            ],
            "text/html": [
              "<span style='color:black; font-weight: bold;'>We offer Whatsapp Chat Counselling, GOOGLE MEET Video Counselling, and Audio Counselling sessions.</span>"
            ]
          },
          "metadata": {}
        },
        {
          "output_type": "stream",
          "name": "stdout",
          "text": [
            "\n"
          ]
        }
      ]
    }
  ]
}